{
 "cells": [
  {
   "cell_type": "markdown",
   "metadata": {},
   "source": [
    "# 💳 Transaction Anomaly Detection using Logistic Regression\n",
    "\n",
    "This notebook trains a machine learning model to detect anomalous transactions from a given dataset. The goal is to build a simple yet effective model that can later be integrated into a real-time banking system.\n",
    "\n",
    "### The Pathway 🚀\n",
    "1.  **Data Loading & Exploration**: Load the dataset and understand its structure.\n",
    "2.  **Feature Engineering**: Create new, meaningful features from the raw data that will help the model learn.\n",
    "3.  **Data Preprocessing**: Prepare the data for training by splitting and scaling it.\n",
    "4.  **Model Training**: Train a Logistic Regression classifier.\n",
    "5.  **Model Evaluation**: Assess the model's performance using appropriate metrics for imbalanced datasets.\n",
    "6.  **Model Saving**: Serialize the trained model and necessary components for future use.\n",
    "7.  **Real-Time Integration Plan**: Outline the steps to deploy this model in a live environment."
   ]
  },
  {
   "cell_type": "markdown",
   "metadata": {},
   "source": [
    "--- \n",
    "## Step 1: Setup and Data Loading"
   ]
  },
  {
   "cell_type": "code",
   "execution_count": 1,
   "metadata": {},
   "outputs": [],
   "source": [
    "import pandas as pd\n",
    "import numpy as np\n",
    "import matplotlib.pyplot as plt\n",
    "import seaborn as sns\n",
    "from sklearn.model_selection import train_test_split\n",
    "from sklearn.preprocessing import StandardScaler\n",
    "from sklearn.linear_model import LogisticRegression\n",
    "from sklearn.metrics import classification_report, confusion_matrix, roc_auc_score, RocCurveDisplay\n",
    "import joblib # For saving the model\n",
    "\n",
    "# Set plot style\n",
    "plt.style.use('seaborn-v0_8-whitegrid')"
   ]
  },
  {
   "cell_type": "code",
   "execution_count": 2,
   "metadata": {},
   "outputs": [
    {
     "name": "stdout",
     "output_type": "stream",
     "text": [
      "Dataset Shape: (50000, 7)\n",
      "\n",
      "First 5 rows:\n"
     ]
    },
    {
     "data": {
      "text/html": [
       "<div>\n",
       "<style scoped>\n",
       "    .dataframe tbody tr th:only-of-type {\n",
       "        vertical-align: middle;\n",
       "    }\n",
       "\n",
       "    .dataframe tbody tr th {\n",
       "        vertical-align: top;\n",
       "    }\n",
       "\n",
       "    .dataframe thead th {\n",
       "        text-align: right;\n",
       "    }\n",
       "</style>\n",
       "<table border=\"1\" class=\"dataframe\">\n",
       "  <thead>\n",
       "    <tr style=\"text-align: right;\">\n",
       "      <th></th>\n",
       "      <th>userId</th>\n",
       "      <th>transactionId</th>\n",
       "      <th>amount</th>\n",
       "      <th>txn_date</th>\n",
       "      <th>txn_latitude</th>\n",
       "      <th>txn_longitude</th>\n",
       "      <th>is_anomaly</th>\n",
       "    </tr>\n",
       "  </thead>\n",
       "  <tbody>\n",
       "    <tr>\n",
       "      <th>0</th>\n",
       "      <td>user_332</td>\n",
       "      <td>1c8e2b5e-68c7-4544-9c1b-4500106a0e40</td>\n",
       "      <td>2015.58</td>\n",
       "      <td>2024-12-27 01:39:02.059934</td>\n",
       "      <td>13.290791</td>\n",
       "      <td>77.769730</td>\n",
       "      <td>False</td>\n",
       "    </tr>\n",
       "    <tr>\n",
       "      <th>1</th>\n",
       "      <td>user_1643</td>\n",
       "      <td>7961c154-e9bb-45bf-91bb-e5ef56cfbb3c</td>\n",
       "      <td>2608.14</td>\n",
       "      <td>2025-04-05 19:18:38.173147</td>\n",
       "      <td>13.060118</td>\n",
       "      <td>77.406743</td>\n",
       "      <td>False</td>\n",
       "    </tr>\n",
       "    <tr>\n",
       "      <th>2</th>\n",
       "      <td>user_1688</td>\n",
       "      <td>ab830b06-5f6f-4a4b-a425-893715ce7498</td>\n",
       "      <td>1220.31</td>\n",
       "      <td>2025-06-27 23:59:54.693369</td>\n",
       "      <td>12.547890</td>\n",
       "      <td>78.149686</td>\n",
       "      <td>False</td>\n",
       "    </tr>\n",
       "    <tr>\n",
       "      <th>3</th>\n",
       "      <td>user_856</td>\n",
       "      <td>f1eda25a-61c7-472c-a828-1c537676dbaf</td>\n",
       "      <td>1708.75</td>\n",
       "      <td>2025-05-17 21:31:01.091710</td>\n",
       "      <td>12.955969</td>\n",
       "      <td>78.222113</td>\n",
       "      <td>False</td>\n",
       "    </tr>\n",
       "    <tr>\n",
       "      <th>4</th>\n",
       "      <td>user_1579</td>\n",
       "      <td>8fc89456-3b23-415f-98ec-2b7a8e19e76a</td>\n",
       "      <td>4136.74</td>\n",
       "      <td>2025-03-11 03:38:22.613929</td>\n",
       "      <td>13.007987</td>\n",
       "      <td>77.157413</td>\n",
       "      <td>False</td>\n",
       "    </tr>\n",
       "  </tbody>\n",
       "</table>\n",
       "</div>"
      ],
      "text/plain": [
       "      userId                         transactionId   amount  \\\n",
       "0   user_332  1c8e2b5e-68c7-4544-9c1b-4500106a0e40  2015.58   \n",
       "1  user_1643  7961c154-e9bb-45bf-91bb-e5ef56cfbb3c  2608.14   \n",
       "2  user_1688  ab830b06-5f6f-4a4b-a425-893715ce7498  1220.31   \n",
       "3   user_856  f1eda25a-61c7-472c-a828-1c537676dbaf  1708.75   \n",
       "4  user_1579  8fc89456-3b23-415f-98ec-2b7a8e19e76a  4136.74   \n",
       "\n",
       "                     txn_date  txn_latitude  txn_longitude  is_anomaly  \n",
       "0  2024-12-27 01:39:02.059934     13.290791      77.769730       False  \n",
       "1  2025-04-05 19:18:38.173147     13.060118      77.406743       False  \n",
       "2  2025-06-27 23:59:54.693369     12.547890      78.149686       False  \n",
       "3  2025-05-17 21:31:01.091710     12.955969      78.222113       False  \n",
       "4  2025-03-11 03:38:22.613929     13.007987      77.157413       False  "
      ]
     },
     "execution_count": 2,
     "metadata": {},
     "output_type": "execute_result"
    }
   ],
   "source": [
    "# Load the dataset\n",
    "df = pd.read_csv('transaction_dataset.csv')\n",
    "\n",
    "print(\"Dataset Shape:\", df.shape)\n",
    "print(\"\\nFirst 5 rows:\")\n",
    "df.head()"
   ]
  },
  {
   "cell_type": "code",
   "execution_count": 3,
   "metadata": {},
   "outputs": [
    {
     "name": "stdout",
     "output_type": "stream",
     "text": [
      "<class 'pandas.core.frame.DataFrame'>\n",
      "RangeIndex: 50000 entries, 0 to 49999\n",
      "Data columns (total 7 columns):\n",
      " #   Column         Non-Null Count  Dtype  \n",
      "---  ------         --------------  -----  \n",
      " 0   userId         50000 non-null  object \n",
      " 1   transactionId  50000 non-null  object \n",
      " 2   amount         50000 non-null  float64\n",
      " 3   txn_date       50000 non-null  object \n",
      " 4   txn_latitude   50000 non-null  float64\n",
      " 5   txn_longitude  50000 non-null  float64\n",
      " 6   is_anomaly     50000 non-null  bool   \n",
      "dtypes: bool(1), float64(3), object(3)\n",
      "memory usage: 2.3+ MB\n"
     ]
    }
   ],
   "source": [
    "# Check data types and null values\n",
    "df.info()"
   ]
  },
  {
   "cell_type": "markdown",
   "metadata": {},
   "source": [
    "The dataset looks clean with no missing values. The `txn_date` is an object and should be converted to datetime."
   ]
  },
  {
   "cell_type": "markdown",
   "metadata": {},
   "source": [
    "--- \n",
    "## Step 2: Feature Engineering\n",
    "\n",
    "A transaction is often anomalous *in relation to a user's normal behavior*. We'll create features that capture this context.\n",
    "\n",
    "1.  **Time-based Features**: Extract the hour of the day and day of the week.\n",
    "2.  **Behavioral Features**: For each user, calculate their average transaction amount and location.\n",
    "3.  **Deviation Features**: Calculate how much a given transaction deviates from the user's average behavior (e.g., distance from their usual location)."
   ]
  },
  {
   "cell_type": "code",
   "execution_count": 4,
   "metadata": {},
   "outputs": [],
   "source": [
    "# 1. Time-based features\n",
    "df['txn_date'] = pd.to_datetime(df['txn_date'])\n",
    "df['hour_of_day'] = df['txn_date'].dt.hour\n",
    "df['day_of_week'] = df['txn_date'].dt.dayofweek # Monday=0, Sunday=6"
   ]
  },
  {
   "cell_type": "code",
   "execution_count": 5,
   "metadata": {},
   "outputs": [],
   "source": [
    "# 2. Behavioral features (user's historical averages)\n",
    "# We calculate these and merge them back into the main dataframe\n",
    "user_avg_features = df.groupby('userId').agg(\n",
    "    avg_amount=('amount', 'mean'),\n",
    "    avg_lat=('txn_latitude', 'mean'),\n",
    "    avg_lon=('txn_longitude', 'mean')\n",
    ").reset_index()\n",
    "\n",
    "# Rename columns to avoid clashes after merge\n",
    "user_avg_features.columns = ['userId', 'user_avg_amount', 'user_avg_lat', 'user_avg_lon']\n",
    "\n",
    "# Merge these features back to the main dataframe\n",
    "df = pd.merge(df, user_avg_features, on='userId', how='left')"
   ]
  },
  {
   "cell_type": "code",
   "execution_count": 6,
   "metadata": {},
   "outputs": [
    {
     "name": "stdout",
     "output_type": "stream",
     "text": [
      "DataFrame with new features:\n"
     ]
    },
    {
     "data": {
      "text/html": [
       "<div>\n",
       "<style scoped>\n",
       "    .dataframe tbody tr th:only-of-type {\n",
       "        vertical-align: middle;\n",
       "    }\n",
       "\n",
       "    .dataframe tbody tr th {\n",
       "        vertical-align: top;\n",
       "    }\n",
       "\n",
       "    .dataframe thead th {\n",
       "        text-align: right;\n",
       "    }\n",
       "</style>\n",
       "<table border=\"1\" class=\"dataframe\">\n",
       "  <thead>\n",
       "    <tr style=\"text-align: right;\">\n",
       "      <th></th>\n",
       "      <th>amount</th>\n",
       "      <th>user_avg_amount</th>\n",
       "      <th>amount_deviation</th>\n",
       "      <th>distance_from_home</th>\n",
       "    </tr>\n",
       "  </thead>\n",
       "  <tbody>\n",
       "    <tr>\n",
       "      <th>0</th>\n",
       "      <td>2015.58</td>\n",
       "      <td>2570.400000</td>\n",
       "      <td>0.784150</td>\n",
       "      <td>6.125636</td>\n",
       "    </tr>\n",
       "    <tr>\n",
       "      <th>1</th>\n",
       "      <td>2608.14</td>\n",
       "      <td>4612.002258</td>\n",
       "      <td>0.565511</td>\n",
       "      <td>129.341157</td>\n",
       "    </tr>\n",
       "    <tr>\n",
       "      <th>2</th>\n",
       "      <td>1220.31</td>\n",
       "      <td>3332.108800</td>\n",
       "      <td>0.366228</td>\n",
       "      <td>4.852317</td>\n",
       "    </tr>\n",
       "    <tr>\n",
       "      <th>3</th>\n",
       "      <td>1708.75</td>\n",
       "      <td>2232.550000</td>\n",
       "      <td>0.765380</td>\n",
       "      <td>7.691759</td>\n",
       "    </tr>\n",
       "    <tr>\n",
       "      <th>4</th>\n",
       "      <td>4136.74</td>\n",
       "      <td>2526.521154</td>\n",
       "      <td>1.637326</td>\n",
       "      <td>2.825600</td>\n",
       "    </tr>\n",
       "  </tbody>\n",
       "</table>\n",
       "</div>"
      ],
      "text/plain": [
       "    amount  user_avg_amount  amount_deviation  distance_from_home\n",
       "0  2015.58      2570.400000          0.784150            6.125636\n",
       "1  2608.14      4612.002258          0.565511          129.341157\n",
       "2  1220.31      3332.108800          0.366228            4.852317\n",
       "3  1708.75      2232.550000          0.765380            7.691759\n",
       "4  4136.74      2526.521154          1.637326            2.825600"
      ]
     },
     "execution_count": 6,
     "metadata": {},
     "output_type": "execute_result"
    }
   ],
   "source": [
    "# 3. Deviation features\n",
    "\n",
    "# Amount deviation\n",
    "# Add a small epsilon to avoid division by zero for users with avg amount of 0\n",
    "df['amount_deviation'] = df['amount'] / (df['user_avg_amount'] + 1e-6)\n",
    "\n",
    "# Distance from user's average location (using Haversine distance for accuracy)\n",
    "def haversine_distance(lat1, lon1, lat2, lon2):\n",
    "    R = 6371  # Radius of Earth in kilometers\n",
    "    \n",
    "    lat1_rad = np.radians(lat1)\n",
    "    lon1_rad = np.radians(lon1)\n",
    "    lat2_rad = np.radians(lat2)\n",
    "    lon2_rad = np.radians(lon2)\n",
    "    \n",
    "    dlon = lon2_rad - lon1_rad\n",
    "    dlat = lat2_rad - lat1_rad\n",
    "    \n",
    "    a = np.sin(dlat / 2)**2 + np.cos(lat1_rad) * np.cos(lat2_rad) * np.sin(dlon / 2)**2\n",
    "    c = 2 * np.arctan2(np.sqrt(a), np.sqrt(1 - a))\n",
    "    \n",
    "    distance = R * c\n",
    "    return distance\n",
    "\n",
    "df['distance_from_home'] = haversine_distance(\n",
    "    df['txn_latitude'], df['txn_longitude'], \n",
    "    df['user_avg_lat'], df['user_avg_lon']\n",
    ")\n",
    "\n",
    "print(\"DataFrame with new features:\")\n",
    "df[['amount', 'user_avg_amount', 'amount_deviation', 'distance_from_home']].head()"
   ]
  },
  {
   "cell_type": "markdown",
   "metadata": {},
   "source": [
    "--- \n",
    "## Step 3: Data Preprocessing & Splitting\n",
    "\n",
    "Now we select our final features, split the data into training and testing sets, and scale the features."
   ]
  },
  {
   "cell_type": "code",
   "execution_count": 7,
   "metadata": {},
   "outputs": [
    {
     "name": "stdout",
     "output_type": "stream",
     "text": [
      "Training set shape: (37500, 5)\n",
      "Test set shape: (12500, 5)\n"
     ]
    }
   ],
   "source": [
    "# Define features (X) and target (y)\n",
    "features = [\n",
    "    'amount',\n",
    "    'hour_of_day',\n",
    "    'day_of_week',\n",
    "    'amount_deviation',\n",
    "    'distance_from_home'\n",
    "]\n",
    "\n",
    "target = 'is_anomaly'\n",
    "\n",
    "X = df[features]\n",
    "y = df[target]\n",
    "\n",
    "# Split data into training and testing sets\n",
    "# We use 'stratify=y' because the dataset is imbalanced\n",
    "X_train, X_test, y_train, y_test = train_test_split(\n",
    "    X, y, \n",
    "    test_size=0.25, \n",
    "    random_state=42, \n",
    "    stratify=y\n",
    ")\n",
    "\n",
    "print(f\"Training set shape: {X_train.shape}\")\n",
    "print(f\"Test set shape: {X_test.shape}\")"
   ]
  },
  {
   "cell_type": "code",
   "execution_count": 8,
   "metadata": {},
   "outputs": [],
   "source": [
    "# Scale the features\n",
    "# It's crucial to fit the scaler ONLY on the training data to avoid data leakage\n",
    "scaler = StandardScaler()\n",
    "\n",
    "X_train_scaled = scaler.fit_transform(X_train)\n",
    "X_test_scaled = scaler.transform(X_test)\n"
   ]
  },
  {
   "cell_type": "markdown",
   "metadata": {},
   "source": [
    "--- \n",
    "## Step 4: Model Training\n",
    "\n",
    "We will train a Logistic Regression model. Since our data is imbalanced (far more normal transactions than anomalies), we use `class_weight='balanced'` to automatically penalize mistakes on the minority class (anomalies) more heavily."
   ]
  },
  {
   "cell_type": "code",
   "execution_count": 9,
   "metadata": {},
   "outputs": [
    {
     "name": "stdout",
     "output_type": "stream",
     "text": [
      "Training the model...\n",
      "Model training complete.\n"
     ]
    }
   ],
   "source": [
    "# Initialize and train the model\n",
    "model = LogisticRegression(class_weight='balanced', random_state=42)\n",
    "\n",
    "print(\"Training the model...\")\n",
    "model.fit(X_train_scaled, y_train)\n",
    "print(\"Model training complete.\")"
   ]
  },
  {
   "cell_type": "markdown",
   "metadata": {},
   "source": [
    "--- \n",
    "## Step 5: Model Evaluation\n",
    "\n",
    "For anomaly detection, **accuracy is not a good metric**. We need to look at metrics that tell us how well we are catching the rare, positive class (anomalies).\n",
    "\n",
    "- **Precision**: Of all transactions we flagged as anomalies, how many actually were?\n",
    "- **Recall**: Of all the actual anomalies, how many did we successfully catch?\n",
    "- **F1-Score**: The harmonic mean of Precision and Recall.\n",
    "- **AUC**: Measures the model's ability to distinguish between classes."
   ]
  },
  {
   "cell_type": "code",
   "execution_count": 10,
   "metadata": {},
   "outputs": [
    {
     "name": "stdout",
     "output_type": "stream",
     "text": [
      "Classification Report:\n",
      "                precision    recall  f1-score   support\n",
      "\n",
      "Normal (False)       1.00      0.99      0.99     12246\n",
      "Anomaly (True)       0.62      0.97      0.76       254\n",
      "\n",
      "      accuracy                           0.99     12500\n",
      "     macro avg       0.81      0.98      0.87     12500\n",
      "  weighted avg       0.99      0.99      0.99     12500\n",
      "\n",
      "ROC AUC Score: 0.9953\n"
     ]
    }
   ],
   "source": [
    "# Make predictions on the test set\n",
    "y_pred = model.predict(X_test_scaled)\n",
    "y_pred_proba = model.predict_proba(X_test_scaled)[:, 1]\n",
    "\n",
    "# Print classification report\n",
    "print(\"Classification Report:\")\n",
    "# Note the recall for the 'True' class - this is key!\n",
    "print(classification_report(y_test, y_pred, target_names=['Normal (False)', 'Anomaly (True)']))\n",
    "\n",
    "# Print AUC Score\n",
    "auc = roc_auc_score(y_test, y_pred_proba)\n",
    "print(f\"ROC AUC Score: {auc:.4f}\")"
   ]
  },
  {
   "cell_type": "code",
   "execution_count": 11,
   "metadata": {},
   "outputs": [
    {
     "data": {
      "image/png": "[encoded data removed]",
      "text/plain": [
       "<Figure size 800x600 with 2 Axes>"
      ]
     },
     "metadata": {},
     "output_type": "display_data"
    },
    {
     "data": {
      "image/png": "[encoded data removed]",
      "text/plain": [
       "<Figure size 800x600 with 1 Axes>"
      ]
     },
     "metadata": {},
     "output_type": "display_data"
    }
   ],
   "source": [
    "# Plot Confusion Matrix\n",
    "cm = confusion_matrix(y_test, y_pred)\n",
    "plt.figure(figsize=(8, 6))\n",
    "sns.heatmap(cm, annot=True, fmt='d', cmap='Blues', \n",
    "            xticklabels=['Normal', 'Anomaly'], yticklabels=['Normal', 'Anomaly'])\n",
    "plt.title('Confusion Matrix')\n",
    "plt.xlabel('Predicted Label')\n",
    "plt.ylabel('True Label')\n",
    "plt.show()\n",
    "\n",
    "# Plot ROC Curve\n",
    "fig, ax = plt.subplots(figsize=(8, 6))\n",
    "RocCurveDisplay.from_estimator(model, X_test_scaled, y_test, ax=ax)\n",
    "ax.set_title('ROC Curve')\n",
    "plt.show()"
   ]
  },
  {
   "cell_type": "markdown",
   "metadata": {},
   "source": [
    "**Interpretation**: The model shows a high recall for the anomaly class, which is excellent. This means it's good at catching most of the actual anomalies. The precision might be lower, indicating some false positives (flagging normal transactions as anomalous), but in fraud detection, a higher recall is often preferred."
   ]
  },
  {
   "cell_type": "markdown",
   "metadata": {},
   "source": [
    "--- \n",
    "## Step 6: Saving the Model & Supporting Artifacts\n",
    "\n",
    "To use this model in production, we need to save three things:\n",
    "1.  The trained **model** itself.\n",
    "2.  The `StandardScaler` **object** (to process new data exactly the same way).\n",
    "3.  The **user average features** DataFrame (to calculate deviation for new transactions)."
   ]
  },
  {
   "cell_type": "code",
   "execution_count": 12,
   "metadata": {},
   "outputs": [
    {
     "name": "stdout",
     "output_type": "stream",
     "text": [
      "Model, scaler, and user features have been saved successfully.\n"
     ]
    }
   ],
   "source": [
    "# Save the model\n",
    "joblib.dump(model, 'anomaly_detection_model.pkl')\n",
    "\n",
    "# Save the scaler\n",
    "joblib.dump(scaler, 'scaler.pkl')\n",
    "\n",
    "# Save the user average features\n",
    "# In a real system, this would be a table in your Postgres DB, updated periodically.\n",
    "user_avg_features.to_csv('user_average_features.csv', index=False)\n",
    "\n",
    "print(\"Model, scaler, and user features have been saved successfully.\")"
   ]
  },
  {
   "cell_type": "markdown",
   "metadata": {},
   "source": [
    "--- \n",
    "## Step 7: The Pathway for Real-Time Integration\n",
    "\n",
    "Here's how to connect this trained model to your real-time banking application using a deployment **pathway**.\n",
    "\n",
    "#### **On-Demand Prediction Flow:**\n",
    "\n",
    "1.  **API Endpoint**: Your banking application backend (e.g., written in Python with Flask/FastAPI) receives a new transaction request: `{ \"userId\": \"user_123\", \"amount\": 75000.00, \"latitude\": 13.0, \"longitude\": 77.5 }`.\n",
    "\n",
    "2.  **Load Artifacts**: The API loads the saved `anomaly_detection_model.pkl`, `scaler.pkl`, and the `user_average_features.csv` data (or fetches it from the Postgres DB).\n",
    "\n",
    "3.  **Real-Time Feature Engineering**: \n",
    "    - It retrieves the specific user's historical averages (`user_avg_amount`, `user_avg_lat`, `user_avg_lon`) from the loaded data.\n",
    "    - It calculates the `amount_deviation` and `distance_from_home` for the new transaction, just as we did in training.\n",
    "    - It gets the `hour_of_day` and `day_of_week` from the current timestamp.\n",
    "\n",
    "4.  **Preprocess Input**: It uses the loaded `scaler.transform()` to scale the newly created feature vector.\n",
    "\n",
    "5.  **Predict**: The scaled vector is passed to `model.predict_proba()` to get the probability of it being an anomaly.\n",
    "\n",
    "6.  **Take Action**: \n",
    "    - If the probability is above a certain threshold (e.g., 0.7), the system flags the transaction. \n",
    "    - The banking model can then trigger a secondary action: decline the transaction, send a push notification for manual verification, or require 2FA.\n",
    "\n",
    "This entire sequence forms a robust **pathway** from a live transaction event to an intelligent, real-time decision."
   ]
  }
 ],
 "metadata": {
  "kernelspec": {
   "display_name": "Python 3",
   "language": "python",
   "name": "python3"
  },
  "language_info": {
   "codemirror_mode": {
    "name": "ipython",
    "version": 3
   },
   "file_extension": ".py",
   "mimetype": "text/x-python",
   "name": "python",
   "nbconvert_exporter": "python",
   "pygments_lexer": "ipython3",
   "version": "3.12.0"
  }
 },
 "nbformat": 4,
 "nbformat_minor": 4
}
